{
 "cells": [
  {
   "cell_type": "markdown",
   "metadata": {},
   "source": [
    "<!--BOOK_INFORMATION-->\n",
    "<img align=\"left\" style=\"padding-right:10px;\" src=\"fig/cover-small.jpg\">\n",
    "*Este notebook contém um trecho do [Whirlwind Tour of Python](http://www.oreilly.com/programming/free/a-whirlwind-tour-of-python.csp) por Jake VanderPlas; o conteúdo está disponível [no GitHub](https://github.com/jakevdp/WhirlwindTourOfPython).*\n",
    "\n",
    "*O texto e código são liberados sob a licença [CC0](https://github.com/jakevdp/WhirlwindTourOfPython/blob/master/LICENSE); veja também o projeto complementar, o [Python Data Science Handbook](https://github.com/jakevdp/PythonDataScienceHandbook).*\n"
   ]
  },
  {
   "cell_type": "markdown",
   "metadata": {},
   "source": [
    "<!--NAVIGATION-->\n",
    "< [Passeio Rápido pela Sintaxe de Python](02-Basic-Python-Syntax.ipynb) | [Conteúdo](Index.ipynb) | [Semântica Básica do Python: Operadores](04-Semantics-Operators.ipynb) >"
   ]
  },
  {
   "cell_type": "markdown",
   "metadata": {},
   "source": [
    "# Semântica Básica do Python: Variáveis e Objetos"
   ]
  },
  {
   "cell_type": "markdown",
   "metadata": {},
   "source": [
    "Esta seção começará a abordar a semântica básica da linguagem Python.\n",
    "Ao contrário da *sintaxe* abordada na seção anterior, a *semântica* de uma linguagem envolve o significado das instruções.\n",
    "Da mesma forma que discutimos a sintaxe, apresentaremos aqui algumas das construções semânticas essenciais em Python para que você tenha um quadro de referência melhor para entender o código nas seções a seguir.\n",
    "\n",
    "Esta seção abordará a semântica de *variáveis* e *objetos*, que são as principais formas de armazenar, referenciar e operar dados em um script Python."
   ]
  },
  {
   "cell_type": "markdown",
   "metadata": {},
   "source": [
    "## As Variáveis Python São Ponteiros\n",
    "\n",
    "Atribuir variáveis em Python é tão fácil quanto colocar um nome de variável à esquerda do sinal de igual (``=``):\n",
    "\n",
    "```python\n",
    "# atribuir 4 à variável x\n",
    "x = 4\n",
    "```\n",
    "\n",
    "Isso pode parecer simples, mas se você tiver o modelo mental errado do que essa operação faz, a maneira como o Python funciona pode parecer confusa.\n",
    "Vamos nos aprofundar um pouco nisso aqui.\n",
    "\n",
    "Em muitas linguagens de programação, é melhor pensar nas variáveis como contêineres ou baldes nos quais você coloca os dados.\n",
    "Assim, em C, por exemplo, quando você escreve\n",
    "\n",
    "```C\n",
    "// código C\n",
    "int x = 4;\n",
    "```\n",
    "\n",
    "você está basicamente definindo um \"compartimento de memória\" chamado ``x`` e colocando o valor ``4`` nele.\n",
    "Em Python, por outro lado, é melhor pensar nas variáveis não como contêineres, mas como ponteiros.\n",
    "Portanto, em Python, quando você escreve\n",
    "\n",
    "```python\n",
    "x = 4\n",
    "```\n",
    "\n",
    "você está essencialmente definindo um *ponteiro* chamado ``x`` que aponta para algum outro bucket que contém o valor ``4``.\n",
    "Observe uma consequência disso: como as variáveis Python apenas apontam para vários objetos, não há necessidade de \"declarar\" a variável, nem mesmo de exigir que a variável sempre aponte para informações do mesmo tipo!\n",
    "É nesse sentido que as pessoas dizem que Python é *dynamically-typed*: os nomes das variáveis podem apontar para objetos de qualquer tipo.\n",
    "Portanto, em Python, você pode fazer coisas como esta:"
   ]
  },
  {
   "cell_type": "code",
   "execution_count": null,
   "metadata": {
    "collapsed": false
   },
   "outputs": [],
   "source": [
    "x = 1         # x é um inteiro\n",
    "x = 'hello'   # agora x é uma string\n",
    "x = [1, 2, 3] # agora x é uma lista"
   ]
  },
  {
   "cell_type": "markdown",
   "metadata": {},
   "source": [
    "Embora os usuários de linguagens com tipagem estática possam sentir falta da segurança de tipo que vem com declarações como as encontradas em C,\n",
    "\n",
    "```C\n",
    "int x = 4;\n",
    "```\n",
    "\n",
    "essa tipagem dinâmica é uma das partes que torna o Python tão rápido de escrever e fácil de ler.\n",
    "\n",
    "Há uma consequência dessa abordagem de “variável como ponteiro” da qual você precisa estar ciente.\n",
    "Se tivermos dois nomes de variáveis apontando para o mesmo objeto *mutável*, a alteração de um deles também alterará o outro!\n",
    "Por exemplo, vamos criar e modificar uma lista:"
   ]
  },
  {
   "cell_type": "code",
   "execution_count": null,
   "metadata": {
    "collapsed": false
   },
   "outputs": [],
   "source": [
    "x = [1, 2, 3]\n",
    "y = x"
   ]
  },
  {
   "cell_type": "markdown",
   "metadata": {},
   "source": [
    "Criamos duas variáveis ``x`` e ``y`` que apontam para o mesmo objeto.\n",
    "Por esse motivo, se modificarmos a lista por meio de um de seus nomes, veremos que a \"outra\" lista também será modificada:"
   ]
  },
  {
   "cell_type": "code",
   "execution_count": null,
   "metadata": {
    "collapsed": false
   },
   "outputs": [
    {
     "name": "stdout",
     "output_type": "stream",
     "text": [
      "[1, 2, 3]\n"
     ]
    }
   ],
   "source": [
    "print(y)"
   ]
  },
  {
   "cell_type": "code",
   "execution_count": null,
   "metadata": {
    "collapsed": false
   },
   "outputs": [
    {
     "name": "stdout",
     "output_type": "stream",
     "text": [
      "[1, 2, 3, 4]\n"
     ]
    }
   ],
   "source": [
    "x.append(4) # acrescenta 4 à lista apontada por x\n",
    "print(y) # a lista y também foi modificada!"
   ]
  },
  {
   "cell_type": "markdown",
   "metadata": {},
   "source": [
    "Esse comportamento pode parecer confuso se você estiver pensando erroneamente nas variáveis como compartimentos que contêm dados.\n",
    "Mas se estiver pensando corretamente nas variáveis como ponteiros para objetos, então esse comportamento faz sentido.\n",
    "\n",
    "Observe também que se usarmos \"``=``\" para atribuir outro valor a ``x``, isso não afetará o valor de ``y``. A atribuição é simplesmente uma alteração do objeto para o qual a variável aponta:"
   ]
  },
  {
   "cell_type": "code",
   "execution_count": null,
   "metadata": {
    "collapsed": false
   },
   "outputs": [
    {
     "name": "stdout",
     "output_type": "stream",
     "text": [
      "[1, 2, 3, 4]\n"
     ]
    }
   ],
   "source": [
    "x = 'something else'\n",
    "print(y)  # y não foi modificado"
   ]
  },
  {
   "cell_type": "markdown",
   "metadata": {},
   "source": [
    "Novamente, isso faz todo o sentido se você pensar em ``x`` e ``y`` como ponteiros, e o operador \"``=``\" como uma operação que altera o que o nome aponta.\n",
    "\n",
    "Você pode se perguntar se essa ideia de ponteiro dificulta o rastreamento das operações aritméticas em Python, mas Python está configurado para que isso não seja um problema. Números, strings e outros *tipos simples* são imutáveis: você não pode alterar o valor deles - você só pode alterar os valores para os quais as variáveis apontam.\n",
    "Portanto, por exemplo, é perfeitamente seguro fazer operações como as seguintes:"
   ]
  },
  {
   "cell_type": "code",
   "execution_count": null,
   "metadata": {
    "collapsed": false
   },
   "outputs": [
    {
     "name": "stdout",
     "output_type": "stream",
     "text": [
      "x = 15\n",
      "y = 10\n"
     ]
    }
   ],
   "source": [
    "x = 10\n",
    "y = x\n",
    "x += 5  # adiciona 5 ao valor de x e o atribue a  x\n",
    "print(\"x =\", x)\n",
    "print(\"y =\", y)"
   ]
  },
  {
   "cell_type": "markdown",
   "metadata": {},
   "source": [
    "Quando executamos ``x += 5``, não estamos modificando o valor do objeto ``10`` apontado por ``x``; estamos alterando a variável ``x`` para que ela aponte para um novo objeto inteiro com o valor ``15``.\n",
    "Por esse motivo, o valor de ``y`` não é afetado pela operação."
   ]
  },
  {
   "cell_type": "markdown",
   "metadata": {},
   "source": [
    "## Tudo É Um Objeto\n",
    "\n",
    "O Python é uma linguagem de programação orientada a objetos, e em Python tudo é um objeto.\n",
    "\n",
    "Vamos detalhar o que isso significa. Anteriormente, vimos que as variáveis são simplesmente ponteiros, e os próprios nomes das variáveis não têm nenhuma informação de tipo anexada.\n",
    "Isso leva algumas pessoas a afirmar erroneamente que Python é uma linguagem não tipada. Mas esse não é o caso!\n",
    "Considere o seguinte:"
   ]
  },
  {
   "cell_type": "code",
   "execution_count": null,
   "metadata": {
    "collapsed": false
   },
   "outputs": [
    {
     "data": {
      "text/plain": [
       "int"
      ]
     },
     "execution_count": 7,
     "metadata": {},
     "output_type": "execute_result"
    }
   ],
   "source": [
    "x = 4\n",
    "type(x)"
   ]
  },
  {
   "cell_type": "code",
   "execution_count": null,
   "metadata": {
    "collapsed": false
   },
   "outputs": [
    {
     "data": {
      "text/plain": [
       "str"
      ]
     },
     "execution_count": 8,
     "metadata": {},
     "output_type": "execute_result"
    }
   ],
   "source": [
    "x = 'hello'\n",
    "type(x)"
   ]
  },
  {
   "cell_type": "code",
   "execution_count": null,
   "metadata": {
    "collapsed": false
   },
   "outputs": [
    {
     "data": {
      "text/plain": [
       "float"
      ]
     },
     "execution_count": 9,
     "metadata": {},
     "output_type": "execute_result"
    }
   ],
   "source": [
    "x = 3.14159\n",
    "type(x)"
   ]
  },
  {
   "cell_type": "markdown",
   "metadata": {},
   "source": [
    "O Python tem tipos; entretanto, os tipos não estão vinculados aos nomes das variáveis, mas *aos próprios objetos*.\n",
    "\n",
    "Em linguagens de programação orientadas a objetos como o Python, um *objeto* é uma entidade que contém dados juntamente com metadados e/ou funcionalidades associadas.\n",
    "Em Python, tudo é um objeto, o que significa que cada entidade tem alguns metadados (chamados *atributos*) e funcionalidades associadas (chamadas *métodos*).\n",
    "Esses atributos e métodos são acessados por meio da sintaxe de ponto.\n",
    "\n",
    "Por exemplo, vimos anteriormente que as listas têm um método ``append``, que adiciona um item à lista e é acessado por meio da sintaxe de ponto (\"``.``\"):"
   ]
  },
  {
   "cell_type": "code",
   "execution_count": null,
   "metadata": {
    "collapsed": false
   },
   "outputs": [
    {
     "name": "stdout",
     "output_type": "stream",
     "text": [
      "[1, 2, 3, 100]\n"
     ]
    }
   ],
   "source": [
    "L = [1, 2, 3]\n",
    "L.append(100)\n",
    "print(L)"
   ]
  },
  {
   "cell_type": "markdown",
   "metadata": {},
   "source": [
    "Embora seja de se esperar que objetos compostos, como listas, tenham atributos e métodos, o que às vezes é inesperado é que, em Python, até mesmo os tipos simples têm atributos e métodos anexados.\n",
    "Por exemplo, os tipos numéricos têm um atributo ``real`` e ``imag`` que retorna a parte real e imaginária do valor, se for visto como um número complexo:"
   ]
  },
  {
   "cell_type": "code",
   "execution_count": null,
   "metadata": {
    "collapsed": false
   },
   "outputs": [
    {
     "name": "stdout",
     "output_type": "stream",
     "text": [
      "4.5 + 0.0 i\n"
     ]
    }
   ],
   "source": [
    "x = 4.5\n",
    "print(x.real, \"+\", x.imag, 'i')"
   ]
  },
  {
   "cell_type": "markdown",
   "metadata": {},
   "source": [
    "Os métodos são como atributos, exceto que são funções que você pode chamar usando abre e fecha parênteses.\n",
    "Por exemplo, os números de ponto flutuante têm um método chamado ``is_integer`` que verifica se o valor é um número inteiro:"
   ]
  },
  {
   "cell_type": "code",
   "execution_count": null,
   "metadata": {
    "collapsed": false
   },
   "outputs": [
    {
     "data": {
      "text/plain": [
       "False"
      ]
     },
     "execution_count": 12,
     "metadata": {},
     "output_type": "execute_result"
    }
   ],
   "source": [
    "x = 4.5\n",
    "x.is_integer()"
   ]
  },
  {
   "cell_type": "code",
   "execution_count": null,
   "metadata": {
    "collapsed": false
   },
   "outputs": [
    {
     "data": {
      "text/plain": [
       "True"
      ]
     },
     "execution_count": 13,
     "metadata": {},
     "output_type": "execute_result"
    }
   ],
   "source": [
    "x = 4.0\n",
    "x.is_integer()"
   ]
  },
  {
   "cell_type": "markdown",
   "metadata": {},
   "source": [
    "Quando dizemos que tudo em Python é um objeto, realmente queremos dizer que *tudo* é um objeto - até mesmo os atributos e métodos dos objetos são objetos com suas próprias informações de ``tipo``:"
   ]
  },
  {
   "cell_type": "code",
   "execution_count": null,
   "metadata": {
    "collapsed": false
   },
   "outputs": [
    {
     "data": {
      "text/plain": [
       "builtin_function_or_method"
      ]
     },
     "execution_count": 14,
     "metadata": {},
     "output_type": "execute_result"
    }
   ],
   "source": [
    "type(x.is_integer)"
   ]
  },
  {
   "cell_type": "markdown",
   "metadata": {},
   "source": [
    "Veremos que a opção de design \"tudo é objeto\" do Python permite algumas construções de linguagem muito convenientes."
   ]
  },
  {
   "cell_type": "markdown",
   "metadata": {},
   "source": [
    "<!--NAVIGATION-->\n",
    "< [Passeio Rápido pela Sintaxe de Python](02-Basic-Python-Syntax.ipynb) | [Conteúdo](Index.ipynb) | [Semântica Básica do Python: Operadores](04-Semantics-Operators.ipynb) >"
   ]
  }
 ],
 "metadata": {
  "anaconda-cloud": {},
  "kernelspec": {
   "display_name": "Python 3",
   "language": "python",
   "name": "python3"
  },
  "language_info": {
   "codemirror_mode": {
    "name": "ipython",
    "version": 3
   },
   "file_extension": ".py",
   "mimetype": "text/x-python",
   "name": "python",
   "nbconvert_exporter": "python",
   "pygments_lexer": "ipython3",
   "version": "3.5.1"
  }
 },
 "nbformat": 4,
 "nbformat_minor": 0
}
