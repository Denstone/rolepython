{
 "cells": [
  {
   "cell_type": "markdown",
   "metadata": {},
   "source": [
    "<!--BOOK_INFORMATION-->\n",
    "<img align=\"left\" style=\"padding-right:10px;\" src=\"fig/cover-small.jpg\">\n",
    "*Este notebook contém um trecho do [Whirlwind Tour of Python](http://www.oreilly.com/programming/free/a-whirlwind-tour-of-python.csp) por Jake VanderPlas; o conteúdo está disponível [no GitHub](https://github.com/jakevdp/WhirlwindTourOfPython).*\n",
    "\n",
    "*O texto e código são liberados sob a licença [CC0](https://github.com/jakevdp/WhirlwindTourOfPython/blob/master/LICENSE); veja também o projeto complementar, o [Python Data Science Handbook](https://github.com/jakevdp/PythonDataScienceHandbook).*\n"
   ]
  },
  {
   "cell_type": "markdown",
   "metadata": {},
   "source": [
    "<!--NAVIGATION-->\n",
    "< [Semântica Básica do Python: Operadores](04-Semantics-Operators.ipynb) | [Conteúdo](Index.ipynb) | [Estruturas de Dados Embutidas](06-Built-in-Data-Structures.ipynb) >"
   ]
  },
  {
   "cell_type": "markdown",
   "metadata": {},
   "source": [
    "# Tipos Embutidos: Valores Simples"
   ]
  },
  {
   "cell_type": "markdown",
   "metadata": {},
   "source": [
    "Quando discutimos as variáveis e os objetos do Python, mencionamos o fato de que todos os objetos do Python têm informações de tipo incorporadas. Aqui, faremos uma breve apresentação dos tipos simples embutidos oferecidos pelo Python.\n",
    "Dizemos “tipos simples” para contrastar com vários tipos compostos que serão discutidos na seção a seguir.\n",
    "\n",
    "Os tipos simples do Python estão resumidos na tabela a seguir:\n",
    "\n",
    "<center>**Tipos escalares Python***</center>\n",
    "\n",
    "| Tipo        | Exemplo        | Descrição                                                        |\n",
    "|-------------|----------------|------------------------------------------------------------------|\n",
    "| ``int``     | ``x = 1``      | inteiros (ou seja, números inteiros)                             |\n",
    "| ``float``   | ``x = 1.0``    | números de ponto flutuante (ou seja, números reais)              |\n",
    "| ``complex`` | ``x = 1 + 2j`` | Números complexos (ou seja, números com parte real e imaginária) |\n",
    "| ``bool``    | ``x = True``   | Booleano: Valores verdadeiro/falso                               |\n",
    "| ``str``     | ``x = 'abc'``` | String: caracteres ou texto                                      |\n",
    "| ``NoneType``| ``x = None``   | Objeto especial que indica nulos                                 |\n",
    "\n",
    "Vamos dar uma olhada rápida em cada um deles."
   ]
  },
  {
   "cell_type": "markdown",
   "metadata": {},
   "source": [
    "## Inteiros\n",
    "O tipo numérico mais básico é o número inteiro.\n",
    "Qualquer número sem um ponto decimal é um número inteiro:"
   ]
  },
  {
   "cell_type": "code",
   "execution_count": 1,
   "metadata": {
    "collapsed": false
   },
   "outputs": [
    {
     "data": {
      "text/plain": [
       "int"
      ]
     },
     "execution_count": 1,
     "metadata": {},
     "output_type": "execute_result"
    }
   ],
   "source": [
    "x = 1\n",
    "type(x)"
   ]
  },
  {
   "cell_type": "markdown",
   "metadata": {},
   "source": [
    "Os números inteiros do Python são, na verdade, um pouco mais sofisticados do que os números inteiros de linguagens como ``C``.\n",
    "Os números inteiros em C são de precisão fixa e geralmente transbordam em algum valor (geralmente próximo a $2^{31}$ ou $2^{63}$, dependendo do seu sistema).\n",
    "Os números inteiros do Python são de precisão variável, portanto, você pode fazer cálculos que estourariam em outras linguagens:"
   ]
  },
  {
   "cell_type": "code",
   "execution_count": 2,
   "metadata": {
    "collapsed": false
   },
   "outputs": [
    {
     "data": {
      "text/plain": [
       "1606938044258990275541962092341162602522202993782792835301376"
      ]
     },
     "execution_count": 2,
     "metadata": {},
     "output_type": "execute_result"
    }
   ],
   "source": [
    "2 ** 200"
   ]
  },
  {
   "cell_type": "markdown",
   "metadata": {},
   "source": [
    "Outro recurso conveniente dos números inteiros do Python é que, por padrão, a divisão faz a coversão para o tipo de ponto flutuante:"
   ]
  },
  {
   "cell_type": "code",
   "execution_count": 3,
   "metadata": {
    "collapsed": false
   },
   "outputs": [
    {
     "data": {
      "text/plain": [
       "2.5"
      ]
     },
     "execution_count": 3,
     "metadata": {},
     "output_type": "execute_result"
    }
   ],
   "source": [
    "5 / 2"
   ]
  },
  {
   "cell_type": "markdown",
   "metadata": {},
   "source": [
    "Observe que essa conversão de tipo é um recurso do Python 3. No Python 2, como em muitas linguagens tipadas estaticamente, como o C, a divisão de inteiros trunca qualquer decimal e sempre retorna um inteiro:\n",
    "``` python\n",
    "# Comportamento do Python 2\n",
    ">>> 5 / 2\n",
    "2\n",
    "```\n",
    "Para recuperar esse comportamento no Python 3, você pode usar o operador de divisão por baixo:"
   ]
  },
  {
   "cell_type": "code",
   "execution_count": 4,
   "metadata": {
    "collapsed": false
   },
   "outputs": [
    {
     "data": {
      "text/plain": [
       "2"
      ]
     },
     "execution_count": 4,
     "metadata": {},
     "output_type": "execute_result"
    }
   ],
   "source": [
    "5 // 2"
   ]
  },
  {
   "cell_type": "markdown",
   "metadata": {},
   "source": [
    "Finalmente, observe que, embora o Python *2.x* tenha um tipo ``int`` e um ``long``, o Python 3 combina o comportamento desses dois tipos em um único tipo ``int``."
   ]
  },
  {
   "cell_type": "markdown",
   "metadata": {},
   "source": [
    "## Números de Ponto Flutuante\n",
    "O tipo de ponto flutuante pode armazenar números fracionários.\n",
    "Eles podem ser definidos em notação decimal padrão ou em notação exponencial:"
   ]
  },
  {
   "cell_type": "code",
   "execution_count": 5,
   "metadata": {
    "collapsed": false
   },
   "outputs": [
    {
     "name": "stdout",
     "output_type": "stream",
     "text": [
      "True\n"
     ]
    }
   ],
   "source": [
    "x = 0.000005\n",
    "y = 5e-6\n",
    "print(x == y)"
   ]
  },
  {
   "cell_type": "code",
   "execution_count": 6,
   "metadata": {
    "collapsed": false
   },
   "outputs": [
    {
     "name": "stdout",
     "output_type": "stream",
     "text": [
      "True\n"
     ]
    }
   ],
   "source": [
    "x = 1400000.00\n",
    "y = 1.4e6\n",
    "print(x == y)"
   ]
  },
  {
   "cell_type": "markdown",
   "metadata": {},
   "source": [
    "Na notação exponencial, o ``e`` ou ``E`` pode ser lido como “...vezes dez elevado a...”, de modo que ``1.4e6`` é interpretado como $~1.4 \\times 10^6$."
   ]
  },
  {
   "cell_type": "markdown",
   "metadata": {},
   "source": [
    "Um número inteiro pode ser explicitamente convertido em um float com o construtor ``float``:"
   ]
  },
  {
   "cell_type": "code",
   "execution_count": 7,
   "metadata": {
    "collapsed": false
   },
   "outputs": [
    {
     "data": {
      "text/plain": [
       "1.0"
      ]
     },
     "execution_count": 7,
     "metadata": {},
     "output_type": "execute_result"
    }
   ],
   "source": [
    "float(1)"
   ]
  },
  {
   "cell_type": "markdown",
   "metadata": {},
   "source": [
    "### Adicional: Precisão do Ponto Flutuante\n",
    "Um aspecto a ser observado na aritmética de ponto flutuante é que sua precisão é limitada, o que pode fazer com que os testes de igualdade sejam imprevisíveis. Por exemplo:"
   ]
  },
  {
   "cell_type": "code",
   "execution_count": 8,
   "metadata": {
    "collapsed": false
   },
   "outputs": [
    {
     "data": {
      "text/plain": [
       "False"
      ]
     },
     "execution_count": 8,
     "metadata": {},
     "output_type": "execute_result"
    }
   ],
   "source": [
    "0.1 + 0.2 == 0.3"
   ]
  },
  {
   "cell_type": "markdown",
   "metadata": {},
   "source": [
    "Por que isso ocorre? Acontece que esse não é um comportamento exclusivo do Python, mas se deve ao formato de precisão fixa do armazenamento de ponto flutuante binário usado pela maioria, se não por todas, as plataformas de computação científica.\n",
    "Todas as linguagens de programação que usam números de ponto flutuante os armazenam em um número fixo de bits, e isso faz com que alguns números sejam representados apenas de forma aproximada.\n",
    "Podemos ver isso imprimindo os três valores em alta precisão:"
   ]
  },
  {
   "cell_type": "code",
   "execution_count": 9,
   "metadata": {
    "collapsed": false
   },
   "outputs": [
    {
     "name": "stdout",
     "output_type": "stream",
     "text": [
      "0.1 = 0.10000000000000001\n",
      "0.2 = 0.20000000000000001\n",
      "0.3 = 0.29999999999999999\n"
     ]
    }
   ],
   "source": [
    "print(\"0.1 = {0:.17f}\".format(0.1))\n",
    "print(\"0.2 = {0:.17f}\".format(0.2))\n",
    "print(\"0.3 = {0:.17f}\".format(0.3))"
   ]
  },
  {
   "cell_type": "markdown",
   "metadata": {},
   "source": [
    "Estamos acostumados a pensar nos números em notação decimal (base 10), de modo que cada fração deve ser expressa como uma soma de potências de 10:\n",
    "$$\n",
    "1 /8 = 1\\cdot 10^{-1} + 2\\cdot 10^{-2} + 5\\cdot 10^{-3}\n",
    "$$\n",
    "Na representação familiar de base 10, representamos isso na expressão decimal familiar: $0,125$.\n",
    "\n",
    "Os computadores geralmente armazenam valores em notação binária, de modo que cada número é expresso como uma soma de potências de 2:\n",
    "$$\n",
    "1/8 = 0\\cdot 2^{-1} + 0\\cdot 2^{-2} + 1\\cdot 2^{-3}\n",
    "$$\n",
    "Em uma representação de base 2, podemos escrever esse valor $0,001_2$, em que o subscrito 2 indica notação binária.\n",
    "O valor $0,125 = 0,001_2$ é um número que tanto a notação binária quanto a decimal podem representar em um número finito de dígitos.\n",
    "\n",
    "Na representação familiar de números na base 10, você provavelmente conhece números que não podem ser expressos em um número finito de dígitos.\n",
    "Por exemplo, dividir $1$ por $3$ dá, na notação decimal padrão:\n",
    "$$\n",
    "1 / 3 = 0,333333333\\cdots\n",
    "$$\n",
    "Os 3s continuam para sempre: ou seja, para representar de fato esse quociente, o número de dígitos necessários é infinito!\n",
    "\n",
    "Da mesma forma, há números para os quais as representações binárias exigem um número infinito de dígitos.\n",
    "Por exemplo:\n",
    "$$\n",
    "1 / 10 = 0,00011001100110011\\cdots_2\n",
    "$$\n",
    "Assim como a notação decimal requer um número infinito de dígitos para representar perfeitamente $1/3$, a notação binária requer um número infinito de dígitos para representar $1/10$.\n",
    "O Python trunca internamente essas representações em 52 bits além do primeiro bit diferente de zero na maioria dos sistemas.\n",
    "\n",
    "Esse erro de arredondamento para valores de ponto flutuante é um mal necessário ao trabalhar com números de ponto flutuante.\n",
    "A melhor maneira de lidar com ele é sempre ter em mente que a aritmética de ponto flutuante é aproximada e *nunca* confiar em testes de igualdade exata com valores de ponto flutuante."
   ]
  },
  {
   "cell_type": "markdown",
   "metadata": {},
   "source": [
    "## Números Complexos\n",
    "Os números complexos são números com partes reais e imaginárias (ponto flutuante).\n",
    "Já vimos números inteiros e reais antes. Podemos usá-los para construir um número complexo:"
   ]
  },
  {
   "cell_type": "code",
   "execution_count": 10,
   "metadata": {
    "collapsed": false
   },
   "outputs": [
    {
     "data": {
      "text/plain": [
       "(1+2j)"
      ]
     },
     "execution_count": 10,
     "metadata": {},
     "output_type": "execute_result"
    }
   ],
   "source": [
    "complex(1, 2)"
   ]
  },
  {
   "cell_type": "markdown",
   "metadata": {},
   "source": [
    "Como alternativa, podemos usar o sufixo “``j``” em expressões para indicar a parte imaginária:"
   ]
  },
  {
   "cell_type": "code",
   "execution_count": 11,
   "metadata": {
    "collapsed": false
   },
   "outputs": [
    {
     "data": {
      "text/plain": [
       "(1+2j)"
      ]
     },
     "execution_count": 11,
     "metadata": {},
     "output_type": "execute_result"
    }
   ],
   "source": [
    "1 + 2j"
   ]
  },
  {
   "cell_type": "markdown",
   "metadata": {},
   "source": [
    "Os números complexos têm uma variedade de atributos e métodos interessantes, que demonstraremos brevemente aqui:"
   ]
  },
  {
   "cell_type": "code",
   "execution_count": 12,
   "metadata": {
    "collapsed": false
   },
   "outputs": [],
   "source": [
    "c = 3 + 4j"
   ]
  },
  {
   "cell_type": "code",
   "execution_count": null,
   "metadata": {
    "collapsed": false
   },
   "outputs": [
    {
     "data": {
      "text/plain": [
       "3.0"
      ]
     },
     "execution_count": 13,
     "metadata": {},
     "output_type": "execute_result"
    }
   ],
   "source": [
    "c.real  # parte real"
   ]
  },
  {
   "cell_type": "code",
   "execution_count": null,
   "metadata": {
    "collapsed": false
   },
   "outputs": [
    {
     "data": {
      "text/plain": [
       "4.0"
      ]
     },
     "execution_count": 14,
     "metadata": {},
     "output_type": "execute_result"
    }
   ],
   "source": [
    "c.imag  # parte imaginária"
   ]
  },
  {
   "cell_type": "code",
   "execution_count": null,
   "metadata": {
    "collapsed": false
   },
   "outputs": [
    {
     "data": {
      "text/plain": [
       "(3-4j)"
      ]
     },
     "execution_count": 15,
     "metadata": {},
     "output_type": "execute_result"
    }
   ],
   "source": [
    "c.conjugate()  # conjugado complexo"
   ]
  },
  {
   "cell_type": "code",
   "execution_count": null,
   "metadata": {
    "collapsed": false
   },
   "outputs": [
    {
     "data": {
      "text/plain": [
       "5.0"
      ]
     },
     "execution_count": 16,
     "metadata": {},
     "output_type": "execute_result"
    }
   ],
   "source": [
    "abs(c)  # magnitude, ou seja sqrt(c.real ** 2 + c.imag ** 2)"
   ]
  },
  {
   "cell_type": "markdown",
   "metadata": {},
   "source": [
    "## Tipo String\n",
    "As strings em Python são criadas com aspas simples ou duplas:"
   ]
  },
  {
   "cell_type": "code",
   "execution_count": null,
   "metadata": {
    "collapsed": false
   },
   "outputs": [],
   "source": [
    "message = \"do que você gosta?\"\n",
    "response = 'spam'"
   ]
  },
  {
   "cell_type": "markdown",
   "metadata": {},
   "source": [
    "O Python tem muitas funções e métodos de string extremamente úteis. Aqui estão alguns deles:"
   ]
  },
  {
   "cell_type": "code",
   "execution_count": null,
   "metadata": {
    "collapsed": false
   },
   "outputs": [
    {
     "data": {
      "text/plain": [
       "4"
      ]
     },
     "execution_count": 18,
     "metadata": {},
     "output_type": "execute_result"
    }
   ],
   "source": [
    "# Comprimento da string\n",
    "len(response)"
   ]
  },
  {
   "cell_type": "code",
   "execution_count": null,
   "metadata": {
    "collapsed": false
   },
   "outputs": [
    {
     "data": {
      "text/plain": [
       "'SPAM'"
      ]
     },
     "execution_count": 19,
     "metadata": {},
     "output_type": "execute_result"
    }
   ],
   "source": [
    "# Converte em maiúsculas. Veja também str.lower()\n",
    "response.upper()"
   ]
  },
  {
   "cell_type": "code",
   "execution_count": null,
   "metadata": {
    "collapsed": false
   },
   "outputs": [
    {
     "data": {
      "text/plain": [
       "'What do you like?'"
      ]
     },
     "execution_count": 20,
     "metadata": {},
     "output_type": "execute_result"
    }
   ],
   "source": [
    "# Capitaliza. Veja também str.title()\n",
    "message.capitalize()"
   ]
  },
  {
   "cell_type": "code",
   "execution_count": null,
   "metadata": {
    "collapsed": false
   },
   "outputs": [
    {
     "data": {
      "text/plain": [
       "'what do you like?spam'"
      ]
     },
     "execution_count": 21,
     "metadata": {},
     "output_type": "execute_result"
    }
   ],
   "source": [
    "# Concatenação com +\n",
    "message + response"
   ]
  },
  {
   "cell_type": "code",
   "execution_count": null,
   "metadata": {
    "collapsed": false
   },
   "outputs": [
    {
     "data": {
      "text/plain": [
       "'spamspamspamspamspam'"
      ]
     },
     "execution_count": 22,
     "metadata": {},
     "output_type": "execute_result"
    }
   ],
   "source": [
    "# Multiplicação é uma concatenação múltipla\n",
    "5 * response"
   ]
  },
  {
   "cell_type": "code",
   "execution_count": null,
   "metadata": {
    "collapsed": false
   },
   "outputs": [
    {
     "data": {
      "text/plain": [
       "'w'"
      ]
     },
     "execution_count": 23,
     "metadata": {},
     "output_type": "execute_result"
    }
   ],
   "source": [
    "# Acessar caracteres individuais (indexação baseada em zero)\n",
    "message[0]"
   ]
  },
  {
   "cell_type": "markdown",
   "metadata": {},
   "source": [
    "Para obter mais informações sobre a indexação em Python, consulte [“Listas”](06-Built-in-Data-Structures.ipynb#Lists)."
   ]
  },
  {
   "cell_type": "markdown",
   "metadata": {},
   "source": [
    "## Tipo None\n",
    "O Python inclui um tipo especial, o ``NoneType``, que tem apenas um único valor possível: ``None``. Por exemplo:"
   ]
  },
  {
   "cell_type": "code",
   "execution_count": 24,
   "metadata": {
    "collapsed": false
   },
   "outputs": [
    {
     "data": {
      "text/plain": [
       "NoneType"
      ]
     },
     "execution_count": 24,
     "metadata": {},
     "output_type": "execute_result"
    }
   ],
   "source": [
    "type(None)"
   ]
  },
  {
   "cell_type": "markdown",
   "metadata": {},
   "source": [
    "Você verá ``None`` usado em muitos lugares, mas talvez o mais comum seja usá-lo como o valor de retorno padrão de uma função.\n",
    "Por exemplo, a função ``print()`` no Python 3 não retorna nada, mas ainda podemos capturar seu valor:"
   ]
  },
  {
   "cell_type": "code",
   "execution_count": 25,
   "metadata": {
    "collapsed": false
   },
   "outputs": [
    {
     "name": "stdout",
     "output_type": "stream",
     "text": [
      "abc\n"
     ]
    }
   ],
   "source": [
    "return_value = print('abc')"
   ]
  },
  {
   "cell_type": "code",
   "execution_count": 26,
   "metadata": {
    "collapsed": false
   },
   "outputs": [
    {
     "name": "stdout",
     "output_type": "stream",
     "text": [
      "None\n"
     ]
    }
   ],
   "source": [
    "print(return_value)"
   ]
  },
  {
   "cell_type": "markdown",
   "metadata": {},
   "source": [
    "Do mesmo modo, qualquer função em Python sem valor de retorno está, na realidade, retornando ``None``."
   ]
  },
  {
   "cell_type": "markdown",
   "metadata": {},
   "source": [
    "## Tipo Booleano\n",
    "O tipo booleano é um tipo simples com dois valores possíveis: ``True`` e ``False``, e é retornado pelos operadores de comparação discutidos anteriormente:"
   ]
  },
  {
   "cell_type": "code",
   "execution_count": 27,
   "metadata": {
    "collapsed": false
   },
   "outputs": [
    {
     "data": {
      "text/plain": [
       "True"
      ]
     },
     "execution_count": 27,
     "metadata": {},
     "output_type": "execute_result"
    }
   ],
   "source": [
    "result = (4 < 5)\n",
    "result"
   ]
  },
  {
   "cell_type": "code",
   "execution_count": 28,
   "metadata": {
    "collapsed": false
   },
   "outputs": [
    {
     "data": {
      "text/plain": [
       "bool"
      ]
     },
     "execution_count": 28,
     "metadata": {},
     "output_type": "execute_result"
    }
   ],
   "source": [
    "type(result)"
   ]
  },
  {
   "cell_type": "markdown",
   "metadata": {},
   "source": [
    "Lembre-se de que os valores booleanos diferenciam maiúsculas de minúsculas: diferentemente de outras linguagens, ``True`` e ``False`` devem ser grafados capitalizados!"
   ]
  },
  {
   "cell_type": "code",
   "execution_count": 29,
   "metadata": {
    "collapsed": false
   },
   "outputs": [
    {
     "name": "stdout",
     "output_type": "stream",
     "text": [
      "True False\n"
     ]
    }
   ],
   "source": [
    "print(True, False)"
   ]
  },
  {
   "cell_type": "markdown",
   "metadata": {},
   "source": [
    "Os booleanos também podem ser construídos usando o construtor de objetos ``bool()``: valores de qualquer outro tipo podem ser convertidos em booleanos por meio de regras previsíveis.\n",
    "Por exemplo, qualquer tipo numérico é False se for igual a zero e True caso contrário:"
   ]
  },
  {
   "cell_type": "code",
   "execution_count": 30,
   "metadata": {
    "collapsed": false
   },
   "outputs": [
    {
     "data": {
      "text/plain": [
       "True"
      ]
     },
     "execution_count": 30,
     "metadata": {},
     "output_type": "execute_result"
    }
   ],
   "source": [
    "bool(2014)"
   ]
  },
  {
   "cell_type": "code",
   "execution_count": 31,
   "metadata": {
    "collapsed": false
   },
   "outputs": [
    {
     "data": {
      "text/plain": [
       "False"
      ]
     },
     "execution_count": 31,
     "metadata": {},
     "output_type": "execute_result"
    }
   ],
   "source": [
    "bool(0)"
   ]
  },
  {
   "cell_type": "code",
   "execution_count": 32,
   "metadata": {
    "collapsed": false
   },
   "outputs": [
    {
     "data": {
      "text/plain": [
       "True"
      ]
     },
     "execution_count": 32,
     "metadata": {},
     "output_type": "execute_result"
    }
   ],
   "source": [
    "bool(3.1415)"
   ]
  },
  {
   "cell_type": "markdown",
   "metadata": {},
   "source": [
    "A conversão booleana de ``None`` é sempre False:"
   ]
  },
  {
   "cell_type": "code",
   "execution_count": 33,
   "metadata": {
    "collapsed": false
   },
   "outputs": [
    {
     "data": {
      "text/plain": [
       "False"
      ]
     },
     "execution_count": 33,
     "metadata": {},
     "output_type": "execute_result"
    }
   ],
   "source": [
    "bool(None)"
   ]
  },
  {
   "cell_type": "markdown",
   "metadata": {},
   "source": [
    "Para strings, ``bool(s)`` é False para strings vazias e True caso contrário:"
   ]
  },
  {
   "cell_type": "code",
   "execution_count": 34,
   "metadata": {
    "collapsed": false
   },
   "outputs": [
    {
     "data": {
      "text/plain": [
       "False"
      ]
     },
     "execution_count": 34,
     "metadata": {},
     "output_type": "execute_result"
    }
   ],
   "source": [
    "bool(\"\")"
   ]
  },
  {
   "cell_type": "code",
   "execution_count": 35,
   "metadata": {
    "collapsed": false
   },
   "outputs": [
    {
     "data": {
      "text/plain": [
       "True"
      ]
     },
     "execution_count": 35,
     "metadata": {},
     "output_type": "execute_result"
    }
   ],
   "source": [
    "bool(\"abc\")"
   ]
  },
  {
   "cell_type": "markdown",
   "metadata": {},
   "source": [
    "Para sequências, que veremos na próxima seção, a representação booleana é False para sequências vazias e True para quaisquer outras sequências:"
   ]
  },
  {
   "cell_type": "code",
   "execution_count": 36,
   "metadata": {
    "collapsed": false
   },
   "outputs": [
    {
     "data": {
      "text/plain": [
       "True"
      ]
     },
     "execution_count": 36,
     "metadata": {},
     "output_type": "execute_result"
    }
   ],
   "source": [
    "bool([1, 2, 3])"
   ]
  },
  {
   "cell_type": "code",
   "execution_count": 37,
   "metadata": {
    "collapsed": false
   },
   "outputs": [
    {
     "data": {
      "text/plain": [
       "False"
      ]
     },
     "execution_count": 37,
     "metadata": {},
     "output_type": "execute_result"
    }
   ],
   "source": [
    "bool([])"
   ]
  },
  {
   "cell_type": "markdown",
   "metadata": {},
   "source": [
    "<!--NAVIGATION-->\n",
    "< [Semântica Básica do Python: Operadores](04-Semantics-Operators.ipynb) | [Conteúdo](Index.ipynb) | [Estruturas de Dados Embutidas](06-Built-in-Data-Structures.ipynb) >"
   ]
  }
 ],
 "metadata": {
  "anaconda-cloud": {},
  "kernelspec": {
   "display_name": "Python 3",
   "language": "python",
   "name": "python3"
  },
  "language_info": {
   "codemirror_mode": {
    "name": "ipython",
    "version": 3
   },
   "file_extension": ".py",
   "mimetype": "text/x-python",
   "name": "python",
   "nbconvert_exporter": "python",
   "pygments_lexer": "ipython3",
   "version": "3.5.1"
  }
 },
 "nbformat": 4,
 "nbformat_minor": 0
}
