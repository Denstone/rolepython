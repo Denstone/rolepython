{
 "cells": [
  {
   "cell_type": "markdown",
   "metadata": {},
   "source": [
    "<!--BOOK_INFORMATION-->\n",
    "<img align=\"left\" style=\"padding-right:10px;\" src=\"fig/cover-small.jpg\">\n",
    "*Este notebook contém um trecho do [Whirlwind Tour of Python](http://www.oreilly.com/programming/free/a-whirlwind-tour-of-python.csp) por Jake VanderPlas; o conteúdo está disponível [no GitHub](https://github.com/jakevdp/WhirlwindTourOfPython).*\n",
    "\n",
    "*O texto e código são liberados sob a licença [CC0](https://github.com/jakevdp/WhirlwindTourOfPython/blob/master/LICENSE); veja também o projeto complementar, o [Python Data Science Handbook](https://github.com/jakevdp/PythonDataScienceHandbook).*\n"
   ]
  },
  {
   "cell_type": "markdown",
   "metadata": {},
   "source": [
    "<!--NAVIGATION-->\n",
    "< [Como Executar Código Python](01-How-to-Run-Python-Code.ipynb) | [Conteúdo](Index.ipynb) | [Semântica Básica do Python: Variáveis e Objetos](03-Semantics-Variables.ipynb) >"
   ]
  },
  {
   "cell_type": "markdown",
   "metadata": {},
   "source": [
    "# Passeio Rápido pela Sintaxe de Python"
   ]
  },
  {
   "cell_type": "markdown",
   "metadata": {},
   "source": [
    "Python foi originalmente desenvolvido como uma linguagem de ensino, mas sua facilidade de uso e sintaxe limpa levaram a ser adotada tanto por iniciantes quanto por especialistas.\n",
    "A limpeza da sintaxe do Python levou alguns a chamá-lo de \"pseudocódigo executável\", e de fato, minha própria experiência tem sido que muitas vezes é muito mais fácil ler e entender um script Python do que ler um script similar escrito em, digamos, C.\n",
    "Aqui começaremos a discutir as principais características da sintaxe do Python.\n",
    "\n",
    "Sintaxe refere-se à estrutura da linguagem (ou seja, o que constitui um programa corretamente formado).\n",
    "Por enquanto, não vamos nos concentrar na semântica - o significado das palavras e símbolos dentro da sintaxe - mas voltaremos a isso em um momento posterior.\n",
    "\n",
    "Considere o seguinte exemplo de código:"
   ]
  },
  {
   "cell_type": "code",
   "execution_count": 1,
   "metadata": {
    "collapsed": false,
    "jupyter": {
     "outputs_hidden": false
    }
   },
   "outputs": [
    {
     "name": "stdout",
     "output_type": "stream",
     "text": [
      "lower: [0, 1, 2, 3, 4]\n",
      "upper: [5, 6, 7, 8, 9]\n"
     ]
    }
   ],
   "source": [
    "# set the midpoint\n",
    "midpoint = 5\n",
    "\n",
    "# make two empty lists\n",
    "lower = []; upper = []\n",
    "\n",
    "# split the numbers into lower and upper\n",
    "for i in range(10):\n",
    "    if (i < midpoint):\n",
    "        lower.append(i)\n",
    "    else:\n",
    "        upper.append(i)\n",
    "        \n",
    "print(\"lower:\", lower)\n",
    "print(\"upper:\", upper)"
   ]
  },
  {
   "cell_type": "markdown",
   "metadata": {},
   "source": [
    "Este script é um pouco bobo, mas ilustra de forma compacta vários aspectos importantes da sintaxe Python.\n",
    "Vamos analisá-lo e discutir algumas das características sintáticas do Python"
   ]
  },
  {
   "cell_type": "markdown",
   "metadata": {},
   "source": [
    "## Comentários são marcados por ``#``\n",
    "O script começa com um comentário:\n",
    "``` python\n",
    "# set the midpoint\n",
    "```\n",
    "Comentários em Python são indicados por um símbolo de cerquilha (``#``), e qualquer coisa na linha após o símbolo de cerquilha é ignorada pelo interpretador.\n",
    "Isso significa, por exemplo, que você pode ter comentários isolados como o que acabamos de mostrar, bem como comentários em linha que seguem uma instrução. Por exemplo:\n",
    "``` python\n",
    "x += 2  # forma abreviada para x = x + 2\n",
    "```\n",
    "Python não possui sintaxe para comentários de múltiplas linhas, como a sintaxe ``/* ... */`` usada em C e C++, embora strings de múltiplas linhas sejam frequentemente usadas como substitutos para comentários de múltiplas linhas (mais sobre isso em [Manipulação de Strings e Expressões Regulares](14-Strings-and-Regular-Expressions.ipynb))."
   ]
  },
  {
   "cell_type": "markdown",
   "metadata": {},
   "source": [
    "## Final de Linha Termina uma Instrução\n",
    "A próxima linha no script é\n",
    "``` python\n",
    "midpoint = 5\n",
    "```\n",
    "Esta é uma operação de atribuição, onde criamos uma variável chamada ``midpoint`` e atribuímos a ela o valor ``5``.\n",
    "Observe que o final desta instrução é simplesmente marcado pelo final da linha.\n",
    "Isso contrasta com linguagens como C e C++, onde cada instrução deve terminar com um ponto e vírgula (``;``).\n",
    "\n",
    "Em Python, se você quiser que uma instrução continue na próxima linha, é possível usar o marcador \"``\\``\" para indicar isso:"
   ]
  },
  {
   "cell_type": "code",
   "execution_count": 2,
   "metadata": {
    "collapsed": false,
    "jupyter": {
     "outputs_hidden": false
    }
   },
   "outputs": [],
   "source": [
    "x = 1 + 2 + 3 + 4 +\\\n",
    "    5 + 6 + 7 + 8"
   ]
  },
  {
   "cell_type": "markdown",
   "metadata": {},
   "source": [
    "É também possível continuar expressões na próxima linha dentro de parênteses, sem usar o marcador \"``\\``\":"
   ]
  },
  {
   "cell_type": "code",
   "execution_count": 3,
   "metadata": {
    "collapsed": false,
    "jupyter": {
     "outputs_hidden": false
    }
   },
   "outputs": [],
   "source": [
    "x = (1 + 2 + 3 + 4 +\n",
    "     5 + 6 + 7 + 8)"
   ]
  },
  {
   "cell_type": "markdown",
   "metadata": {},
   "source": [
    "A maioria dos guias de estilo Python recomendam a segunda versão de continuação de linha (dentro de parênteses) em vez da primeira (uso do marcador \"``\\``\")."
   ]
  },
  {
   "cell_type": "markdown",
   "metadata": {},
   "source": [
    "## Ponto e Vírgula Pode Opcionalmente Terminar uma Instrução\n",
    "Às vezes, pode ser útil colocar várias instruções em uma única linha.\n",
    "A próxima parte do script é\n",
    "``` python\n",
    "lower = []; upper = []\n",
    "```\n",
    "Isso mostra o exemplo de como o ponto e vírgula (``;``) familiar em C pode ser usado opcionalmente em Python para colocar duas instruções em uma única linha.\n",
    "Funcionalmente, isso é totalmente equivalente a escrever\n",
    "``` python\n",
    "lower = []\n",
    "upper = []\n",
    "```\n",
    "Usar um ponto e vírgula para colocar várias instruções em uma única linha geralmente é desencorajado pela maioria dos guias de estilo Python, embora ocasionalmente se prove conveniente."
   ]
  },
  {
   "cell_type": "markdown",
   "metadata": {},
   "source": [
    "## Indentação: Espaços em Branco Importam!\n",
    "Em seguida, chegamos ao bloco principal de código:\n",
    "``` Python\n",
    "for i in range(10):\n",
    "    if i < midpoint:\n",
    "        lower.append(i)\n",
    "    else:\n",
    "        upper.append(i)\n",
    "```\n",
    "Este é um comando de controle de fluxo composto, incluindo um loop e um condicional - veremos esses tipos de comandos em breve.\n",
    "Por enquanto, considere que isso demonstra o que é talvez a característica mais controversa da sintaxe do Python: espaços em branco são significativos!\n",
    "\n",
    "Em linguagens de programação, um *bloco* de código é um conjunto de instruções que devem ser tratadas como uma unidade.\n",
    "Em C, por exemplo, blocos de código são denotados por chaves:\n",
    "``` C\n",
    "// Código C\n",
    "for(int i=0; i<100; i++)\n",
    "   {\n",
    "      // chaves indicam bloco de código\n",
    "      total += i;\n",
    "   }\n",
    "```\n",
    "Em Python, blocos de código são denotados por *indentação*:\n",
    "``` python\n",
    "for i in range(100):\n",
    "    # indentação indica bloco de código\n",
    "    total += i\n",
    "```\n",
    "Em Python, blocos de código indentados são sempre precedidos por dois pontos (``:``) na linha anterior."
   ]
  },
  {
   "cell_type": "markdown",
   "metadata": {},
   "source": [
    "O uso de indentação ajuda a impor o estilo uniforme e legível que muitos acham atraente no código Python.\n",
    "Mas pode ser confuso para os não iniciados; por exemplo, os dois trechos a seguir produzirão resultados diferentes:\n",
    "```python\n",
    ">>> if x < 4:         >>> if x < 4:\n",
    "...     y = x * 2     ...     y = x * 2\n",
    "...     print(x)      ... print(x)\n",
    "```\n",
    "No trecho à esquerda, ``print(x)`` está no bloco indentado e será executado apenas se ``x`` for menor que ``4``.\n",
    "No trecho à direita, ``print(x)`` está fora do bloco e será executado independentemente do valor de ``x``!"
   ]
  },
  {
   "cell_type": "markdown",
   "metadata": {},
   "source": [
    "O uso de espaços em branco significativos do Python frequentemente surpreende programadores que estão acostumados com outras linguagens, mas na prática pode levar a um código muito mais consistente e legível do que linguagens que não impõem indentação de blocos de código.\n",
    "Se você acha o uso de espaços em branco do Python desagradável, eu o encorajaria a experimentá-lo: como eu fiz, você pode descobrir que acaba apreciando-o.\n",
    "\n",
    "Finalmente, você deve estar ciente de que a *quantidade* de espaço em branco usada para indentar blocos de código fica a critério do usuário, desde que seja consistente em todo o script.\n",
    "Por convenção, a maioria dos guias de estilo recomenda indentar blocos de código com quatro espaços, e essa é a convenção que seguiremos neste relatório.\n",
    "Observe que muitos editores de texto como Emacs e Vim contêm modos Python que fazem indentação de quatro espaços automaticamente."
   ]
  },
  {
   "cell_type": "markdown",
   "metadata": {},
   "source": [
    "## Espaços em Branco *Dentro* das Linhas Não Importam\n",
    "Enquanto o mantra de *espaços em branco significativos* é verdadeiro para espaços em branco *antes* das linhas (que indicam um bloco de código), espaços em branco *dentro* das linhas de código Python não importam.\n",
    "Por exemplo, todas estas três expressões são equivalentes:"
   ]
  },
  {
   "cell_type": "code",
   "execution_count": 4,
   "metadata": {
    "collapsed": false,
    "jupyter": {
     "outputs_hidden": false
    }
   },
   "outputs": [],
   "source": [
    "x=1+2\n",
    "x = 1 + 2\n",
    "x             =        1    +                2"
   ]
  },
  {
   "cell_type": "markdown",
   "metadata": {},
   "source": [
    "Abusar dessa flexibilidade pode levar a problemas com a legibilidade do código - na verdade, abusar de espaços em branco é frequentemente um dos principais meios de ofuscar intencionalmente o código (o que algumas pessoas fazem por esporte).\n",
    "Usar espaços em branco conscientemente pode levar a um código muito mais legível, \n",
    "especialmente em casos onde operadores se seguem - compare as duas expressões a seguir para potenciação por um número negativo:\n",
    "``` python\n",
    "x=10**-2\n",
    "```\n",
    "para\n",
    "``` python\n",
    "x = 10 ** -2\n",
    "```\n",
    "Eu acho a segunda versão com espaços muito mais facilmente legível em um único olhar.\n",
    "A maioria dos guias de estilo Python recomenda usar um único espaço ao redor de operadores binários e nenhum espaço ao redor de operadores unários.\n",
    "Discutiremos mais sobre os operadores do Python em [Semântica Básica do Python: Operadores](04-Semantics-Operators.ipynb)."
   ]
  },
  {
   "cell_type": "markdown",
   "metadata": {},
   "source": [
    "## Parênteses São Para Agrupamento ou Chamada\n",
    "\n",
    "No trecho de código anterior, vemos dois usos de parênteses.\n",
    "Primeiro, eles podem ser usados da maneira típica para agrupar instruções ou operações matemáticas:"
   ]
  },
  {
   "cell_type": "code",
   "execution_count": 5,
   "metadata": {
    "collapsed": false,
    "jupyter": {
     "outputs_hidden": false
    }
   },
   "outputs": [
    {
     "data": {
      "text/plain": [
       "14"
      ]
     },
     "execution_count": 5,
     "metadata": {},
     "output_type": "execute_result"
    }
   ],
   "source": [
    "2 * (3 + 4)"
   ]
  },
  {
   "cell_type": "markdown",
   "metadata": {},
   "source": [
    "Eles também podem ser usados para indicar que uma *função* está sendo chamada.\n",
    "No próximo trecho, a função ``print()`` é usada para exibir o conteúdo de uma variável (veja a barra lateral).\n",
    "A chamada de função é indicada por um par de parênteses de abertura e fechamento, com os *argumentos* da função contidos dentro:"
   ]
  },
  {
   "cell_type": "code",
   "execution_count": 6,
   "metadata": {
    "collapsed": false,
    "jupyter": {
     "outputs_hidden": false
    }
   },
   "outputs": [
    {
     "name": "stdout",
     "output_type": "stream",
     "text": [
      "first value: 1\n"
     ]
    }
   ],
   "source": [
    "print('first value:', 1)"
   ]
  },
  {
   "cell_type": "code",
   "execution_count": 7,
   "metadata": {
    "collapsed": false,
    "jupyter": {
     "outputs_hidden": false
    }
   },
   "outputs": [
    {
     "name": "stdout",
     "output_type": "stream",
     "text": [
      "second value: 2\n"
     ]
    }
   ],
   "source": [
    "print('second value:', 2)"
   ]
  },
  {
   "cell_type": "markdown",
   "metadata": {},
   "source": [
    "Algumas funções podem ser chamadas sem nenhum argumento, caso em que os parênteses de abertura e fechamento ainda devem ser usados para indicar uma avaliação de função.\n",
    "Um exemplo disso é o método ``sort`` das listas:"
   ]
  },
  {
   "cell_type": "code",
   "execution_count": 8,
   "metadata": {
    "collapsed": false,
    "jupyter": {
     "outputs_hidden": false
    }
   },
   "outputs": [
    {
     "name": "stdout",
     "output_type": "stream",
     "text": [
      "[1, 2, 3, 4]\n"
     ]
    }
   ],
   "source": [
    "L = [4,2,3,1]\n",
    "L.sort()\n",
    "print(L)"
   ]
  },
  {
   "cell_type": "markdown",
   "metadata": {},
   "source": [
    "O \"``()``\" após ``sort`` indica que a função deve ser executada e é necessário mesmo que nenhum argumento seja necessário."
   ]
  },
  {
   "cell_type": "markdown",
   "metadata": {},
   "source": [
    "## À Parte: Uma Nota Sobre a Função ``print()``\n",
    "\n",
    "Acima, usamos o exemplo da função ``print()``.\n",
    "A função ``print()`` é uma parte que mudou entre Python *2.x* e Python *3.x*. No Python 2, ``print`` se comportava como uma instrução: ou seja, você poderia escrever\n",
    "``` python\n",
    "# Apenas Python 2!\n",
    ">> print \"first value:\", 1\n",
    "first value: 1\n",
    "```\n",
    "Por várias razões, os mantenedores da linguagem decidiram que no Python 3, ``print()`` deveria se tornar uma função, então agora escrevemos\n",
    "``` python\n",
    "# Apenas Python 3!\n",
    ">>> print(\"first value:\", 1)\n",
    "first value: 1\n",
    "```\n",
    "Este é um dos muitos construtos incompatíveis com versões anteriores entre Python 2 e 3.\n",
    "No momento da escrita deste livro, é comum encontrar exemplos escritos em ambas as versões do Python, e a presença da instrução ``print`` em vez da função ``print()`` é frequentemente um dos primeiros sinais de que você está olhando para código Python 2."
   ]
  },
  {
   "cell_type": "markdown",
   "metadata": {},
   "source": [
    "## Finalizando e Aprendendo Mais\n",
    "\n",
    "Esta foi uma exploração muito breve das características essenciais da sintaxe Python; seu objetivo é dar a você um bom quadro de referência para quando estiver lendo o código nas seções posteriores.\n",
    "Várias vezes mencionamos \"guias de estilo\" Python, que podem ajudar equipes a escrever código em um estilo consistente.\n",
    "O guia de estilo mais amplamente utilizado em Python é conhecido como PEP8 e pode ser encontrado em https://www.python.org/dev/peps/pep-0008/.\n",
    "À medida que você começa a escrever mais código Python, seria útil ler isso!\n",
    "As sugestões de estilo contêm a sabedoria de muitos gurus Python, e a maioria das sugestões vai além da simples pedanteria: são recomendações baseadas em experiência que podem ajudar a evitar erros e bugs sutis em seu código."
   ]
  },
  {
   "cell_type": "markdown",
   "metadata": {},
   "source": [
    "<!--NAVIGATION-->\n",
    "< [Como Executar Código Python](01-How-to-Run-Python-Code.ipynb) | [Conteúdo](Index.ipynb) | [Semântica Básica do Python: Variáveis e Objetos](03-Semantics-Variables.ipynb) >"
   ]
  }
 ],
 "metadata": {
  "anaconda-cloud": {},
  "kernelspec": {
   "display_name": "Python 3 (ipykernel)",
   "language": "python",
   "name": "python3"
  },
  "language_info": {
   "codemirror_mode": {
    "name": "ipython",
    "version": 3
   },
   "file_extension": ".py",
   "mimetype": "text/x-python",
   "name": "python",
   "nbconvert_exporter": "python",
   "pygments_lexer": "ipython3",
   "version": "3.13.2"
  }
 },
 "nbformat": 4,
 "nbformat_minor": 4
}
